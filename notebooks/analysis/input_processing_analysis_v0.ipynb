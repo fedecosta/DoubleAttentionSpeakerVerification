{
 "cells": [
  {
   "cell_type": "markdown",
   "metadata": {},
   "source": [
    "# Imports"
   ]
  },
  {
   "cell_type": "code",
   "execution_count": 1,
   "metadata": {},
   "outputs": [],
   "source": [
    "import sys\n",
    "sys.path.append('/home/usuaris/veu/federico.costa/git_repositories/DoubleAttentionSpeakerVerification/scripts/')\n",
    "\n",
    "import os\n",
    "import librosa\n",
    "import pandas as pd\n",
    "import numpy as np\n",
    "import matplotlib.pylab as plt\n",
    "import seaborn as sns"
   ]
  },
  {
   "cell_type": "markdown",
   "metadata": {},
   "source": [
    "# Functions"
   ]
  },
  {
   "cell_type": "markdown",
   "metadata": {},
   "source": [
    "# Settings"
   ]
  },
  {
   "cell_type": "code",
   "execution_count": null,
   "metadata": {},
   "outputs": [],
   "source": [
    "audio_paths_file_path = '/home/usuaris/veu/federico.costa/git_repositories/DoubleAttentionSpeakerVerification/feature_extractor/voxceleb_2_dev_feature_extractor_paths.lst'\n",
    "prepend_directory = '/home/usuaris/veussd/DATABASES/VoxCeleb/VoxCeleb2/dev/'\n",
    "sampling_rate = 16000\n",
    "pre_emph_coef = 0.97\n",
    "n_fft_secs = 0.25\n",
    "win_length_secs = 0.25\n",
    "hop_length_secs = 0.01\n",
    "n_mels = 80\n",
    "window = 'hamming'"
   ]
  },
  {
   "cell_type": "markdown",
   "metadata": {},
   "source": [
    "# Analysis"
   ]
  },
  {
   "cell_type": "code",
   "execution_count": null,
   "metadata": {},
   "outputs": [],
   "source": [
    "with open(audio_paths_file_path, 'r') as file:\n",
    "    \n",
    "    for line in file:\n",
    "        \n",
    "        audio_path = line.replace(\"\\n\", \"\")\n",
    "        load_audio_path = os.path.join(prepend_directory, audio_path)\n",
    "        \n",
    "        print(load_audio_path)\n",
    "        \n",
    "        samples, sampling_rate = librosa.load(\n",
    "            f'{load_audio_path}',\n",
    "            sr = sampling_rate,\n",
    "            mono = True, # converts to mono channel\n",
    "            )\n",
    "        \n",
    "        samples_mult = samples.copy()\n",
    "        samples_mult = samples_mult * 32768\n",
    "        \n",
    "        samples_pre_emph = samples_mult.copy()\n",
    "        samples_pre_emph[1:] = samples_pre_emph[1:] - pre_emph_coef * samples_pre_emph[:-1]\n",
    "        samples_pre_emph[0] *= (1 - pre_emph_coef)\n",
    "        \n",
    "        D = librosa.stft(\n",
    "            samples_pre_emph, \n",
    "            n_fft = int(n_fft_secs * sampling_rate), \n",
    "            hop_length = int(hop_length_secs * sampling_rate),\n",
    "            win_length = int(win_length_secs * sampling_rate), \n",
    "            window = window, \n",
    "            center = False,\n",
    "            )\n",
    "        \n",
    "        magnitudes = np.abs(D)\n",
    "        low_freq = 0\n",
    "        high_freq = sampling_rate / 2\n",
    "\n",
    "        mel_spectrogram = librosa.feature.melspectrogram(\n",
    "            S = magnitudes, \n",
    "            sr = sampling_rate, \n",
    "            n_mels = n_mels, \n",
    "            fmin = low_freq, \n",
    "            fmax = high_freq, \n",
    "            norm = None,\n",
    "            )\n",
    "\n",
    "        # TODO this array has to be trasposed in later methods. why not traspose now?\n",
    "        log_mel_spectrogram = np.log(np.maximum(1, mel_spectrogram))\n",
    "        \n",
    "        break"
   ]
  },
  {
   "cell_type": "code",
   "execution_count": null,
   "metadata": {},
   "outputs": [],
   "source": [
    "df = pd.DataFrame(\n",
    "    {\n",
    "        \"samples\" : samples,\n",
    "        \"samples_mult\" : samples_mult,\n",
    "        \"samples_pre_emph\" : samples_pre_emph,\n",
    "    }\n",
    ")"
   ]
  },
  {
   "cell_type": "code",
   "execution_count": null,
   "metadata": {},
   "outputs": [],
   "source": [
    "df.describe()"
   ]
  },
  {
   "cell_type": "code",
   "execution_count": null,
   "metadata": {},
   "outputs": [],
   "source": [
    "sns.boxplot(data = df)\n",
    "\n",
    "plt.show()"
   ]
  },
  {
   "cell_type": "code",
   "execution_count": null,
   "metadata": {},
   "outputs": [],
   "source": []
  },
  {
   "cell_type": "code",
   "execution_count": null,
   "metadata": {},
   "outputs": [],
   "source": [
    "df_mel = pd.DataFrame(\n",
    "log_mel_spectrogram[:, :15]\n",
    ")"
   ]
  },
  {
   "cell_type": "code",
   "execution_count": null,
   "metadata": {},
   "outputs": [],
   "source": [
    "df_mel.describe()"
   ]
  },
  {
   "cell_type": "code",
   "execution_count": null,
   "metadata": {},
   "outputs": [],
   "source": [
    "sns.boxplot(data = df_mel)\n",
    "\n",
    "plt.show()"
   ]
  },
  {
   "cell_type": "code",
   "execution_count": null,
   "metadata": {},
   "outputs": [],
   "source": [
    "features = np.transpose(log_mel_spectrogram)\n",
    "mean = np.mean(features, axis = 0)\n",
    "features = features - mean"
   ]
  },
  {
   "cell_type": "code",
   "execution_count": null,
   "metadata": {},
   "outputs": [],
   "source": [
    "std = np.std(features, axis = 0)\n",
    "std = np.where(std > 0.01, std, 1.0)\n",
    "features_std = features / std"
   ]
  },
  {
   "cell_type": "code",
   "execution_count": null,
   "metadata": {},
   "outputs": [],
   "source": [
    "features_norm = features_std / np.max(np.abs(features_std),axis=0)"
   ]
  },
  {
   "cell_type": "code",
   "execution_count": null,
   "metadata": {},
   "outputs": [],
   "source": [
    "plt.figure(figsize = (18,7))\n",
    "\n",
    "sns.boxplot(data = pd.DataFrame(features[:, :90]))\n",
    "\n",
    "plt.xlabel(\"mel_band\")\n",
    "\n",
    "plt.show()"
   ]
  },
  {
   "cell_type": "code",
   "execution_count": null,
   "metadata": {},
   "outputs": [],
   "source": [
    "plt.figure(figsize = (18,7))\n",
    "\n",
    "sns.boxplot(data = pd.DataFrame(features_std[:, :90]))\n",
    "\n",
    "plt.xlabel(\"mel_band\")\n",
    "\n",
    "plt.show()"
   ]
  },
  {
   "cell_type": "code",
   "execution_count": null,
   "metadata": {},
   "outputs": [],
   "source": [
    "plt.figure(figsize = (18,7))\n",
    "\n",
    "sns.boxplot(data = pd.DataFrame(features_norm[:, :90]))\n",
    "\n",
    "plt.xlabel(\"mel_band\")\n",
    "\n",
    "plt.show()"
   ]
  },
  {
   "cell_type": "code",
   "execution_count": null,
   "metadata": {},
   "outputs": [],
   "source": [
    "plt.figure(figsize = (18,7))\n",
    "\n",
    "sns.boxplot(data = pd.DataFrame(features.T[:, :180]))\n",
    "\n",
    "plt.xlabel(\"frame\")\n",
    "\n",
    "plt.show()"
   ]
  },
  {
   "cell_type": "code",
   "execution_count": null,
   "metadata": {},
   "outputs": [],
   "source": [
    "plt.figure(figsize = (18,7))\n",
    "\n",
    "sns.boxplot(data = pd.DataFrame(features_std.T[:, :180]))\n",
    "\n",
    "plt.xlabel(\"frame\")\n",
    "\n",
    "plt.show()"
   ]
  },
  {
   "cell_type": "code",
   "execution_count": null,
   "metadata": {},
   "outputs": [],
   "source": [
    "plt.figure(figsize = (18,7))\n",
    "\n",
    "sns.boxplot(data = pd.DataFrame(features_norm.T[:, :180]))\n",
    "\n",
    "plt.xlabel(\"frame\")\n",
    "\n",
    "plt.show()"
   ]
  },
  {
   "cell_type": "code",
   "execution_count": null,
   "metadata": {},
   "outputs": [],
   "source": []
  },
  {
   "cell_type": "code",
   "execution_count": null,
   "metadata": {},
   "outputs": [],
   "source": []
  },
  {
   "cell_type": "code",
   "execution_count": null,
   "metadata": {},
   "outputs": [],
   "source": []
  },
  {
   "cell_type": "code",
   "execution_count": null,
   "metadata": {},
   "outputs": [],
   "source": []
  },
  {
   "cell_type": "code",
   "execution_count": null,
   "metadata": {},
   "outputs": [],
   "source": []
  },
  {
   "cell_type": "code",
   "execution_count": null,
   "metadata": {},
   "outputs": [],
   "source": []
  },
  {
   "cell_type": "code",
   "execution_count": null,
   "metadata": {},
   "outputs": [],
   "source": []
  },
  {
   "cell_type": "code",
   "execution_count": null,
   "metadata": {},
   "outputs": [],
   "source": []
  },
  {
   "cell_type": "code",
   "execution_count": null,
   "metadata": {},
   "outputs": [],
   "source": []
  }
 ],
 "metadata": {
  "kernelspec": {
   "display_name": "DASV",
   "language": "python",
   "name": "dasv"
  },
  "language_info": {
   "codemirror_mode": {
    "name": "ipython",
    "version": 3
   },
   "file_extension": ".py",
   "mimetype": "text/x-python",
   "name": "python",
   "nbconvert_exporter": "python",
   "pygments_lexer": "ipython3",
   "version": "3.10.4"
  }
 },
 "nbformat": 4,
 "nbformat_minor": 2
}
