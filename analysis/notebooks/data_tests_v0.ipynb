{
 "cells": [
  {
   "cell_type": "markdown",
   "metadata": {},
   "source": [
    "# 1 - Imports"
   ]
  },
  {
   "cell_type": "code",
   "execution_count": 1,
   "metadata": {},
   "outputs": [],
   "source": [
    "import sys\n",
    "sys.path.append('/home/usuaris/veu/federico.costa/git_repositories/DoubleAttentionSpeakerVerification/scripts/')\n",
    "\n",
    "import argparse\n",
    "import matplotlib.pyplot as plt\n",
    "import pickle\n",
    "import librosa \n",
    "import numpy as np\n",
    "\n",
    "from data import Dataset\n",
    "from settings import TRAIN_DEFAULT_SETTINGS\n",
    "\n",
    "from feature_extractor import FeatureExtractor\n",
    "from settings import FEATURE_EXTRACTOR_DEFAULT_SETTINGS"
   ]
  },
  {
   "cell_type": "markdown",
   "metadata": {},
   "source": [
    "# 2 - Dataset class"
   ]
  },
  {
   "cell_type": "code",
   "execution_count": 2,
   "metadata": {},
   "outputs": [],
   "source": [
    "default_params_dict = TRAIN_DEFAULT_SETTINGS\n",
    "default_params_dict['train_labels_path'] = '/home/usuaris/veu/federico.costa/git_repositories/DoubleAttentionSpeakerVerification/scripts/labels/train/train_labels.ndx'\n",
    "default_params_dict['valid_clients'] = '/home/usuaris/veu/federico.costa/git_repositories/DoubleAttentionSpeakerVerification/scripts/labels/valid/valid_clients_labels.ndx'\n",
    "default_params_dict['valid_impostors'] = '/home/usuaris/veu/federico.costa/git_repositories/DoubleAttentionSpeakerVerification/scripts/labels/valid/valid_impostors_labels.ndx'\n",
    "default_params_dict['max_epochs'] = 60\n",
    "\n",
    "default_params = argparse.Namespace(**default_params_dict)\n",
    "\n",
    "with open(default_params.train_labels_path, 'r') as data_labels_file:\n",
    "    train_labels = data_labels_file.readlines()\n",
    "\n",
    "dataset = Dataset(train_labels, default_params)"
   ]
  },
  {
   "cell_type": "code",
   "execution_count": 3,
   "metadata": {},
   "outputs": [
    {
     "name": "stdout",
     "output_type": "stream",
     "text": [
      "//home/usuaris/veu/federico.costa/datasets/voxceleb2/dev/id09099/7Tldl8C_7wc/00004\n",
      "<class 'numpy.ndarray'>\n",
      "(80, 478)\n"
     ]
    }
   ],
   "source": [
    "item_index = 0\n",
    "\n",
    "utterance_tuple = dataset.utterances_paths[item_index].strip().split(' ')\n",
    "utterance_path = dataset.parameters.train_data_dir + '/' + utterance_tuple[0]\n",
    "utterance_label = int(utterance_tuple[1])\n",
    "\n",
    "print(utterance_path)\n",
    "\n",
    "with open(utterance_path + '.pickle', 'rb') as pickle_file:\n",
    "    features = pickle.load(pickle_file)\n",
    "    \n",
    "print(type(features))\n",
    "print(features.shape)"
   ]
  },
  {
   "cell_type": "code",
   "execution_count": 4,
   "metadata": {},
   "outputs": [
    {
     "data": {
      "text/plain": [
       "0.021678004535147392"
      ]
     },
     "execution_count": 4,
     "metadata": {},
     "output_type": "execute_result"
    }
   ],
   "source": [
    "478/22050"
   ]
  },
  {
   "cell_type": "markdown",
   "metadata": {},
   "source": [
    "# 3 - FeatureExtractor Class"
   ]
  },
  {
   "cell_type": "code",
   "execution_count": 5,
   "metadata": {},
   "outputs": [],
   "source": [
    "default_params_dict = FEATURE_EXTRACTOR_DEFAULT_SETTINGS\n",
    "\n",
    "default_params = argparse.Namespace(**default_params_dict)\n",
    "\n",
    "feature_extractor = FeatureExtractor(default_params)"
   ]
  },
  {
   "cell_type": "code",
   "execution_count": 8,
   "metadata": {},
   "outputs": [],
   "source": [
    "spectrogram_path = '/home/usuaris/veu/federico.costa/datasets/voxceleb2/dev/id09099/7Tldl8C_7wc/00004.pickle'\n",
    "\n",
    "with open(spectrogram_path, 'rb') as pickle_file:\n",
    "    features = pickle.load(pickle_file)\n",
    "    features = np.transpose(features)"
   ]
  },
  {
   "cell_type": "code",
   "execution_count": 9,
   "metadata": {},
   "outputs": [
    {
     "data": {
      "text/plain": [
       "(478, 80)"
      ]
     },
     "execution_count": 9,
     "metadata": {},
     "output_type": "execute_result"
    }
   ],
   "source": [
    "features.shape"
   ]
  },
  {
   "cell_type": "code",
   "execution_count": 10,
   "metadata": {},
   "outputs": [],
   "source": [
    "mean = np.mean(features, axis=0)\n",
    "\n",
    "norm_features = features - mean"
   ]
  },
  {
   "cell_type": "code",
   "execution_count": 13,
   "metadata": {},
   "outputs": [
    {
     "data": {
      "text/plain": [
       "array([  499.89847,   973.54596,  1657.8721 ,  3622.1726 ,  4833.9463 ,\n",
       "        6783.728  ,  9527.943  , 17209.975  , 21795.488  , 28414.752  ,\n",
       "       38548.3    , 32513.041  , 25009.104  , 19427.678  , 17131.98   ,\n",
       "       18251.65   ,  9366.31   ,  6219.7144 ,  6404.156  ,  5654.1147 ,\n",
       "        6955.1523 ,  7474.7607 ,  8067.709  , 10634.841  ,  8848.5205 ,\n",
       "        7861.5083 ,  7269.988  ,  8361.706  ,  9056.749  ,  8889.854  ,\n",
       "       10244.027  , 13520.268  , 11574.171  , 13291.743  ,  9825.648  ,\n",
       "       14300.004  , 15817.267  , 13743.314  , 11338.024  , 12605.118  ,\n",
       "       13163.386  ,  8278.033  ,  7071.1484 ,  7245.742  , 13449.36   ,\n",
       "       16089.3955 , 11111.961  ,  7268.215  ,  6244.313  ,  8016.056  ,\n",
       "        9577.658  , 10815.639  , 17248.275  , 19947.479  , 24148.922  ,\n",
       "       29940.82   , 22134.773  , 25503.523  , 22993.05   , 14225.668  ,\n",
       "       12482.297  , 12200.697  , 11351.691  , 13612.179  , 19323.21   ,\n",
       "       20364.752  , 25043.168  , 30978.092  , 35195.223  , 53286.586  ,\n",
       "       62802.082  , 24319.71   ,  1564.6963 ,   484.5855 ,   422.7876 ,\n",
       "         394.5303 ,   383.0527 ,   382.01093,   386.11832,   395.28558],\n",
       "      dtype=float32)"
      ]
     },
     "execution_count": 13,
     "metadata": {},
     "output_type": "execute_result"
    }
   ],
   "source": [
    "np.std(features, axis=0)"
   ]
  },
  {
   "cell_type": "code",
   "execution_count": 12,
   "metadata": {},
   "outputs": [
    {
     "data": {
      "text/plain": [
       "array([-1.0725843e-05, -1.3075313e-04,  9.8064855e-05,  6.2107743e-04,\n",
       "        0.0000000e+00,  3.9225942e-04, -3.9225942e-04,  0.0000000e+00,\n",
       "       -1.3075313e-04, -3.9225942e-04,  1.0460251e-03, -1.0460251e-03,\n",
       "        2.6150627e-04,  9.1527199e-04, -9.1527199e-04,  2.6150627e-04,\n",
       "        7.3548639e-05,  0.0000000e+00,  5.2301254e-04, -6.8645395e-04,\n",
       "        5.2301254e-04,  4.5763599e-04,  4.2494771e-04, -8.8258367e-04,\n",
       "        0.0000000e+00,  1.3075313e-04, -5.8838911e-04,  3.2688284e-04,\n",
       "        0.0000000e+00,  1.9612971e-04, -1.9612971e-04, -1.9612971e-04,\n",
       "        1.3075313e-04, -7.8451884e-04,  7.3548639e-04,  0.0000000e+00,\n",
       "        6.5376569e-04, -4.9032428e-04,  1.9612971e-04, -1.3075313e-04,\n",
       "        6.5376569e-04, -5.2301254e-04,  2.6150627e-04, -1.9612971e-04,\n",
       "       -1.3075313e-04,  2.6150627e-04,  1.1767782e-03, -6.5376567e-05,\n",
       "       -1.9612971e-04,  0.0000000e+00,  9.1527199e-04, -5.2301254e-04,\n",
       "        7.8451884e-04,  7.8451884e-04, -1.0460251e-03,  1.5690377e-03,\n",
       "        1.0460251e-03,  5.2301254e-04, -1.5690377e-03,  0.0000000e+00,\n",
       "        0.0000000e+00, -3.9225942e-04,  5.2301254e-04,  5.2301254e-04,\n",
       "       -2.6150627e-04,  2.6150627e-04,  0.0000000e+00,  5.2301254e-04,\n",
       "        1.0460251e-03,  1.0460251e-03, -1.0460251e-03,  7.8451884e-04,\n",
       "       -3.2688284e-05, -2.0430178e-05,  8.1720709e-06,  3.2688284e-05,\n",
       "       -1.6344142e-05,  1.0215089e-05,  2.0430177e-06,  1.8387160e-05],\n",
       "      dtype=float32)"
      ]
     },
     "execution_count": 12,
     "metadata": {},
     "output_type": "execute_result"
    }
   ],
   "source": [
    "np.mean(norm_features, axis=0)"
   ]
  },
  {
   "cell_type": "code",
   "execution_count": null,
   "metadata": {},
   "outputs": [],
   "source": []
  },
  {
   "cell_type": "code",
   "execution_count": null,
   "metadata": {},
   "outputs": [],
   "source": []
  },
  {
   "cell_type": "code",
   "execution_count": null,
   "metadata": {},
   "outputs": [],
   "source": []
  },
  {
   "cell_type": "code",
   "execution_count": null,
   "metadata": {},
   "outputs": [],
   "source": []
  },
  {
   "cell_type": "code",
   "execution_count": null,
   "metadata": {},
   "outputs": [],
   "source": []
  },
  {
   "cell_type": "code",
   "execution_count": null,
   "metadata": {},
   "outputs": [],
   "source": []
  },
  {
   "cell_type": "code",
   "execution_count": null,
   "metadata": {},
   "outputs": [],
   "source": []
  },
  {
   "cell_type": "code",
   "execution_count": null,
   "metadata": {},
   "outputs": [],
   "source": [
    "audio_path = '/home/usuaris/veu/federico.costa/datasets/voxceleb2/dev/id09099/7Tldl8C_7wc/00004.m4a'\n",
    "\n",
    "samples, sampling_rate = librosa.load(\n",
    "    f'{audio_path}',\n",
    "    sr = feature_extractor.params.sampling_rate,\n",
    "    mono = True, # converts to mono channel\n",
    "    )\n",
    "\n",
    "print(len(samples))\n",
    "print(len(samples) / sampling_rate)\n",
    "\n",
    "samples *= 32768 #TODO why this number?\n",
    "samples[1:] = samples[1:] - feature_extractor.params.pre_emph_coef * samples[:-1]\n",
    "samples[0] *= (1 - feature_extractor.params.pre_emph_coef)\n",
    "\n",
    "D = librosa.stft(\n",
    "    samples, \n",
    "    n_fft = int(feature_extractor.params.n_fft_secs * sampling_rate), \n",
    "    hop_length = int(feature_extractor.params.hop_length_secs * sampling_rate),\n",
    "    win_length = int(feature_extractor.params.win_length_secs * sampling_rate), \n",
    "    window = feature_extractor.params.window, \n",
    "    center = False,\n",
    "    )\n",
    "\n",
    "magnitudes = np.abs(D)\n",
    "print(magnitudes.shape)\n",
    "low_freq = 0\n",
    "high_freq = sampling_rate / 2\n",
    "\n",
    "mel_spectrogram = librosa.feature.melspectrogram(\n",
    "    S = magnitudes, \n",
    "    sr = sampling_rate, \n",
    "    n_mels = feature_extractor.params.n_mels, \n",
    "    fmin = low_freq, \n",
    "    fmax = high_freq, \n",
    "    norm = None,\n",
    "    )\n",
    "\n",
    "print(mel_spectrogram.shape)"
   ]
  },
  {
   "cell_type": "code",
   "execution_count": null,
   "metadata": {},
   "outputs": [],
   "source": []
  },
  {
   "cell_type": "code",
   "execution_count": null,
   "metadata": {},
   "outputs": [],
   "source": []
  },
  {
   "cell_type": "code",
   "execution_count": null,
   "metadata": {},
   "outputs": [],
   "source": []
  },
  {
   "cell_type": "code",
   "execution_count": null,
   "metadata": {},
   "outputs": [],
   "source": []
  },
  {
   "cell_type": "code",
   "execution_count": null,
   "metadata": {},
   "outputs": [],
   "source": []
  },
  {
   "cell_type": "code",
   "execution_count": null,
   "metadata": {},
   "outputs": [],
   "source": []
  },
  {
   "cell_type": "code",
   "execution_count": null,
   "metadata": {},
   "outputs": [],
   "source": []
  },
  {
   "cell_type": "code",
   "execution_count": null,
   "metadata": {},
   "outputs": [],
   "source": []
  },
  {
   "cell_type": "code",
   "execution_count": null,
   "metadata": {},
   "outputs": [],
   "source": [
    "audio_path = '/home/usuaris/veu/federico.costa/datasets/voxceleb1/test/id10287/V0ubcXO71Sg/00001.wav'\n",
    "\n",
    "samples, sampling_rate = librosa.load(\n",
    "    f'{audio_path}',\n",
    "    sr = feature_extractor.params.sampling_rate,\n",
    "    mono = True, # converts to mono channel\n",
    "    ) \n",
    "\n",
    "samples *= 32768 #TODO why this number?\n",
    "samples[1:] = samples[1:] - feature_extractor.params.pre_emph_coef * samples[:-1]\n",
    "samples[0] *= (1 - feature_extractor.params.pre_emph_coef)\n",
    "\n",
    "D = librosa.stft(\n",
    "    samples, \n",
    "    n_fft = int(feature_extractor.params.n_fft_secs * sampling_rate), \n",
    "    hop_length = int(feature_extractor.params.hop_length_secs * sampling_rate),\n",
    "    win_length = int(feature_extractor.params.win_length_secs * sampling_rate), \n",
    "    window = feature_extractor.params.window, \n",
    "    center = False,\n",
    "    )\n",
    "\n",
    "magnitudes = np.abs(D)\n",
    "low_freq = 0\n",
    "high_freq = sampling_rate / 2\n",
    "\n",
    "mel_spectrogram = librosa.feature.melspectrogram(\n",
    "    S = magnitudes, \n",
    "    sr = sampling_rate, \n",
    "    n_mels = feature_extractor.params.n_mels, \n",
    "    fmin = low_freq, \n",
    "    fmax = high_freq, \n",
    "    norm = None,\n",
    "    )"
   ]
  }
 ],
 "metadata": {
  "kernelspec": {
   "display_name": "DASV",
   "language": "python",
   "name": "dasv"
  },
  "language_info": {
   "codemirror_mode": {
    "name": "ipython",
    "version": 3
   },
   "file_extension": ".py",
   "mimetype": "text/x-python",
   "name": "python",
   "nbconvert_exporter": "python",
   "pygments_lexer": "ipython3",
   "version": "3.10.4"
  }
 },
 "nbformat": 4,
 "nbformat_minor": 2
}
