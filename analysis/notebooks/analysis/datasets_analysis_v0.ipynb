{
 "cells": [
  {
   "cell_type": "markdown",
   "metadata": {},
   "source": [
    "# Imports"
   ]
  },
  {
   "cell_type": "code",
   "execution_count": 25,
   "metadata": {},
   "outputs": [],
   "source": [
    "import sys\n",
    "sys.path.append('/home/usuaris/veu/federico.costa/git_repositories/DoubleAttentionSpeakerVerification/scripts/')\n",
    "import os\n",
    "import librosa\n",
    "import pandas as pd\n",
    "import numpy as np\n",
    "import matplotlib.pylab as plt\n",
    "import torch\n",
    "from model import SpeakerClassifier"
   ]
  },
  {
   "cell_type": "markdown",
   "metadata": {},
   "source": [
    "# Functions"
   ]
  },
  {
   "cell_type": "code",
   "execution_count": 2,
   "metadata": {},
   "outputs": [],
   "source": [
    "def load_labels(paths):\n",
    "    \n",
    "    labels = []\n",
    "    for path in paths:\n",
    "        with open(path, 'r') as data_labels_file:\n",
    "            labels = labels + data_labels_file.readlines()\n",
    "    return labels"
   ]
  },
  {
   "cell_type": "code",
   "execution_count": 3,
   "metadata": {},
   "outputs": [],
   "source": [
    "def format_audio_path(audio_path, prepend_directories):\n",
    "\n",
    "    # we need to remove the first \"/\" to join paths\n",
    "    if audio_path[0] == \"/\":\n",
    "        audio_path = audio_path[1:]\n",
    "\n",
    "    # remove the file extension, if has\n",
    "    if len(audio_path.split(\".\")) > 1:\n",
    "        audio_path = '.'.join(audio_path.split(\".\")[:-1]) \n",
    "\n",
    "    # We prepend prepend_directory to the paths and the file extension\n",
    "    data_founded = False\n",
    "    for dir in prepend_directories:\n",
    "\n",
    "        if data_founded == False:\n",
    "\n",
    "            for audio_format in ['wav', 'm4a']:\n",
    "\n",
    "                audio_file = f\"{audio_path}.{audio_format}\"\n",
    "                complete_audio_file_path = os.path.join(dir, audio_file)\n",
    "\n",
    "                if os.path.exists(complete_audio_file_path):\n",
    "                    data_founded = True\n",
    "                    break\n",
    "\n",
    "    assert data_founded, f\"{audio_path} not founded.\"\n",
    "\n",
    "    return complete_audio_file_path"
   ]
  },
  {
   "cell_type": "code",
   "execution_count": 4,
   "metadata": {},
   "outputs": [],
   "source": [
    "def get_audio_paths(labels_list, prepend_directories):\n",
    "\n",
    "    audio_paths = []\n",
    "    total_lines = len(labels_list)\n",
    "    progress_pctg_to_print = 0\n",
    "    for index, label in enumerate(labels_list):\n",
    "\n",
    "        label = label.replace('\\n', '')\n",
    "        label_chunks = label.split(' ')\n",
    "\n",
    "        if len(label_chunks) == 3:\n",
    "\n",
    "            # Training labels:\n",
    "            # label is of the form '/speaker/interview/file speaker_number -1'\n",
    "            audio_path = label_chunks[0]\n",
    "            audio_path = format_audio_path(audio_path, prepend_directories)\n",
    "            audio_paths.append(audio_path)\n",
    "\n",
    "        elif len(label_chunks) == 2:\n",
    "\n",
    "            # Validation or Test labels\n",
    "            # label is of the form '/speaker/interview/file /speaker/interview/file'\n",
    "            audio_path_1, audio_path_2 = label_chunks\n",
    "            audio_path_1 = format_audio_path(audio_path_1, prepend_directories)\n",
    "            audio_path_2 = format_audio_path(audio_path_2, prepend_directories)\n",
    "            audio_paths.append(audio_path_1)\n",
    "            audio_paths.append(audio_path_2)\n",
    "\n",
    "        else:\n",
    "\n",
    "            assert False, f\"{label} has a not expected structure.\"\n",
    "\n",
    "        progress_pctg = index / total_lines * 100\n",
    "        if progress_pctg >=  progress_pctg_to_print:\n",
    "            #print(f\"{progress_pctg:.0f}% paths processed...\")\n",
    "            progress_pctg_to_print = progress_pctg_to_print + 1\n",
    "            \n",
    "    return audio_paths"
   ]
  },
  {
   "cell_type": "markdown",
   "metadata": {},
   "source": [
    "# Settings"
   ]
  },
  {
   "cell_type": "code",
   "execution_count": 5,
   "metadata": {},
   "outputs": [],
   "source": [
    "prepend_directories = [\n",
    "    '/home/usuaris/veussd/DATABASES/VoxCeleb/VoxCeleb2/dev/',\n",
    "]\n",
    "\n",
    "labels_file_name = [\n",
    "    '/home/usuaris/veu/federico.costa/git_repositories/DoubleAttentionSpeakerVerification/labels/valid/voxceleb_2/22_12_09_12_41_06_12nc5wq4_fiery-donkey-13/clients.ndx',\n",
    "    '/home/usuaris/veu/federico.costa/git_repositories/DoubleAttentionSpeakerVerification/labels/valid/voxceleb_2/22_12_09_12_41_29_ikfavyhj_ruby-microwave-14/impostors.ndx',\n",
    "]"
   ]
  },
  {
   "cell_type": "markdown",
   "metadata": {},
   "source": [
    "# Analysis"
   ]
  },
  {
   "cell_type": "code",
   "execution_count": 6,
   "metadata": {},
   "outputs": [],
   "source": [
    "labels_list = load_labels(labels_file_name)"
   ]
  },
  {
   "cell_type": "code",
   "execution_count": 7,
   "metadata": {
    "scrolled": true
   },
   "outputs": [],
   "source": [
    "audio_paths = get_audio_paths(labels_list, prepend_directories)"
   ]
  },
  {
   "cell_type": "code",
   "execution_count": 8,
   "metadata": {},
   "outputs": [],
   "source": [
    "df = pd.DataFrame({\"audio_path\" : audio_paths[:1000]})"
   ]
  },
  {
   "cell_type": "code",
   "execution_count": 9,
   "metadata": {},
   "outputs": [],
   "source": [
    "def get_speaker(audio_path):\n",
    "    \n",
    "    speaker_chunk = [chunk for chunk in audio_path.split(\"/\") if chunk.startswith(\"id\")]\n",
    "    # Only consider directories with /id.../\n",
    "    if len(speaker_chunk) > 0: \n",
    "        speaker = speaker_chunk[0]\n",
    "    \n",
    "    return speaker"
   ]
  },
  {
   "cell_type": "code",
   "execution_count": 10,
   "metadata": {},
   "outputs": [],
   "source": [
    "def get_duration(audio_path):\n",
    "\n",
    "    audio_duration = librosa.get_duration(filename = audio_path)\n",
    "    \n",
    "    return audio_duration"
   ]
  },
  {
   "cell_type": "code",
   "execution_count": 11,
   "metadata": {},
   "outputs": [],
   "source": [
    "df[\"speaker\"] = df[\"audio_path\"].apply(lambda x: get_speaker(x))"
   ]
  },
  {
   "cell_type": "code",
   "execution_count": 12,
   "metadata": {},
   "outputs": [
    {
     "name": "stdout",
     "output_type": "stream",
     "text": [
      "CPU times: user 7.36 s, sys: 1.9 s, total: 9.26 s\n",
      "Wall time: 1min 16s\n"
     ]
    }
   ],
   "source": [
    "%%time\n",
    "\n",
    "df[\"duration_seconds\"] = df[\"audio_path\"].apply(lambda x: get_duration(x))"
   ]
  },
  {
   "cell_type": "code",
   "execution_count": 13,
   "metadata": {},
   "outputs": [
    {
     "data": {
      "text/html": [
       "<div>\n",
       "<style scoped>\n",
       "    .dataframe tbody tr th:only-of-type {\n",
       "        vertical-align: middle;\n",
       "    }\n",
       "\n",
       "    .dataframe tbody tr th {\n",
       "        vertical-align: top;\n",
       "    }\n",
       "\n",
       "    .dataframe thead th {\n",
       "        text-align: right;\n",
       "    }\n",
       "</style>\n",
       "<table border=\"1\" class=\"dataframe\">\n",
       "  <thead>\n",
       "    <tr style=\"text-align: right;\">\n",
       "      <th></th>\n",
       "      <th>audio_path</th>\n",
       "      <th>speaker</th>\n",
       "      <th>duration_seconds</th>\n",
       "    </tr>\n",
       "  </thead>\n",
       "  <tbody>\n",
       "    <tr>\n",
       "      <th>0</th>\n",
       "      <td>/home/usuaris/veussd/DATABASES/VoxCeleb/VoxCel...</td>\n",
       "      <td>id08821</td>\n",
       "      <td>8.3</td>\n",
       "    </tr>\n",
       "    <tr>\n",
       "      <th>1</th>\n",
       "      <td>/home/usuaris/veussd/DATABASES/VoxCeleb/VoxCel...</td>\n",
       "      <td>id08821</td>\n",
       "      <td>4.5</td>\n",
       "    </tr>\n",
       "    <tr>\n",
       "      <th>2</th>\n",
       "      <td>/home/usuaris/veussd/DATABASES/VoxCeleb/VoxCel...</td>\n",
       "      <td>id04274</td>\n",
       "      <td>12.3</td>\n",
       "    </tr>\n",
       "    <tr>\n",
       "      <th>3</th>\n",
       "      <td>/home/usuaris/veussd/DATABASES/VoxCeleb/VoxCel...</td>\n",
       "      <td>id04274</td>\n",
       "      <td>11.2</td>\n",
       "    </tr>\n",
       "    <tr>\n",
       "      <th>4</th>\n",
       "      <td>/home/usuaris/veussd/DATABASES/VoxCeleb/VoxCel...</td>\n",
       "      <td>id08637</td>\n",
       "      <td>7.2</td>\n",
       "    </tr>\n",
       "  </tbody>\n",
       "</table>\n",
       "</div>"
      ],
      "text/plain": [
       "                                          audio_path  speaker  \\\n",
       "0  /home/usuaris/veussd/DATABASES/VoxCeleb/VoxCel...  id08821   \n",
       "1  /home/usuaris/veussd/DATABASES/VoxCeleb/VoxCel...  id08821   \n",
       "2  /home/usuaris/veussd/DATABASES/VoxCeleb/VoxCel...  id04274   \n",
       "3  /home/usuaris/veussd/DATABASES/VoxCeleb/VoxCel...  id04274   \n",
       "4  /home/usuaris/veussd/DATABASES/VoxCeleb/VoxCel...  id08637   \n",
       "\n",
       "   duration_seconds  \n",
       "0               8.3  \n",
       "1               4.5  \n",
       "2              12.3  \n",
       "3              11.2  \n",
       "4               7.2  "
      ]
     },
     "execution_count": 13,
     "metadata": {},
     "output_type": "execute_result"
    }
   ],
   "source": [
    "df.head()"
   ]
  },
  {
   "cell_type": "code",
   "execution_count": 14,
   "metadata": {},
   "outputs": [],
   "source": [
    "number_of_speakers = df[\"speaker\"].nunique()\n",
    "total_files = len(df)\n",
    "total_duration_hours = sum(df[\"duration_seconds\"]) / 3600"
   ]
  },
  {
   "cell_type": "code",
   "execution_count": 15,
   "metadata": {},
   "outputs": [
    {
     "data": {
      "text/plain": [
       "1000"
      ]
     },
     "execution_count": 15,
     "metadata": {},
     "output_type": "execute_result"
    }
   ],
   "source": [
    "total_files"
   ]
  },
  {
   "cell_type": "code",
   "execution_count": 16,
   "metadata": {},
   "outputs": [
    {
     "data": {
      "text/plain": [
       "2.0356944444444456"
      ]
     },
     "execution_count": 16,
     "metadata": {},
     "output_type": "execute_result"
    }
   ],
   "source": [
    "total_duration_hours"
   ]
  },
  {
   "cell_type": "code",
   "execution_count": 17,
   "metadata": {},
   "outputs": [],
   "source": [
    "df.sort_values(\"duration_seconds\", ascending = True, inplace = True)"
   ]
  },
  {
   "cell_type": "code",
   "execution_count": 18,
   "metadata": {},
   "outputs": [],
   "source": [
    "df[\"duration_seconds_cumsum\"] = df[\"duration_seconds\"].cumsum() / df[\"duration_seconds\"].sum() * 100"
   ]
  },
  {
   "cell_type": "code",
   "execution_count": 19,
   "metadata": {},
   "outputs": [
    {
     "data": {
      "text/html": [
       "<div>\n",
       "<style scoped>\n",
       "    .dataframe tbody tr th:only-of-type {\n",
       "        vertical-align: middle;\n",
       "    }\n",
       "\n",
       "    .dataframe tbody tr th {\n",
       "        vertical-align: top;\n",
       "    }\n",
       "\n",
       "    .dataframe thead th {\n",
       "        text-align: right;\n",
       "    }\n",
       "</style>\n",
       "<table border=\"1\" class=\"dataframe\">\n",
       "  <thead>\n",
       "    <tr style=\"text-align: right;\">\n",
       "      <th></th>\n",
       "      <th>audio_path</th>\n",
       "      <th>speaker</th>\n",
       "      <th>duration_seconds</th>\n",
       "      <th>duration_seconds_cumsum</th>\n",
       "    </tr>\n",
       "  </thead>\n",
       "  <tbody>\n",
       "    <tr>\n",
       "      <th>783</th>\n",
       "      <td>/home/usuaris/veussd/DATABASES/VoxCeleb/VoxCel...</td>\n",
       "      <td>id00933</td>\n",
       "      <td>3.9</td>\n",
       "      <td>0.053217</td>\n",
       "    </tr>\n",
       "    <tr>\n",
       "      <th>196</th>\n",
       "      <td>/home/usuaris/veussd/DATABASES/VoxCeleb/VoxCel...</td>\n",
       "      <td>id02098</td>\n",
       "      <td>3.9</td>\n",
       "      <td>0.106434</td>\n",
       "    </tr>\n",
       "    <tr>\n",
       "      <th>33</th>\n",
       "      <td>/home/usuaris/veussd/DATABASES/VoxCeleb/VoxCel...</td>\n",
       "      <td>id08078</td>\n",
       "      <td>3.9</td>\n",
       "      <td>0.159651</td>\n",
       "    </tr>\n",
       "    <tr>\n",
       "      <th>325</th>\n",
       "      <td>/home/usuaris/veussd/DATABASES/VoxCeleb/VoxCel...</td>\n",
       "      <td>id08723</td>\n",
       "      <td>3.9</td>\n",
       "      <td>0.212868</td>\n",
       "    </tr>\n",
       "    <tr>\n",
       "      <th>184</th>\n",
       "      <td>/home/usuaris/veussd/DATABASES/VoxCeleb/VoxCel...</td>\n",
       "      <td>id07204</td>\n",
       "      <td>3.9</td>\n",
       "      <td>0.266084</td>\n",
       "    </tr>\n",
       "  </tbody>\n",
       "</table>\n",
       "</div>"
      ],
      "text/plain": [
       "                                            audio_path  speaker  \\\n",
       "783  /home/usuaris/veussd/DATABASES/VoxCeleb/VoxCel...  id00933   \n",
       "196  /home/usuaris/veussd/DATABASES/VoxCeleb/VoxCel...  id02098   \n",
       "33   /home/usuaris/veussd/DATABASES/VoxCeleb/VoxCel...  id08078   \n",
       "325  /home/usuaris/veussd/DATABASES/VoxCeleb/VoxCel...  id08723   \n",
       "184  /home/usuaris/veussd/DATABASES/VoxCeleb/VoxCel...  id07204   \n",
       "\n",
       "     duration_seconds  duration_seconds_cumsum  \n",
       "783               3.9                 0.053217  \n",
       "196               3.9                 0.106434  \n",
       "33                3.9                 0.159651  \n",
       "325               3.9                 0.212868  \n",
       "184               3.9                 0.266084  "
      ]
     },
     "execution_count": 19,
     "metadata": {},
     "output_type": "execute_result"
    }
   ],
   "source": [
    "df.head()"
   ]
  },
  {
   "cell_type": "code",
   "execution_count": 20,
   "metadata": {},
   "outputs": [
    {
     "data": {
      "text/plain": [
       "count    1000.000000\n",
       "mean        7.328500\n",
       "std         4.200174\n",
       "min         3.900000\n",
       "1%          3.900000\n",
       "5%          4.100000\n",
       "25%         4.700000\n",
       "50%         5.900000\n",
       "75%         8.400000\n",
       "95%        15.510000\n",
       "99%        23.901000\n",
       "max        49.300000\n",
       "Name: duration_seconds, dtype: float64"
      ]
     },
     "execution_count": 20,
     "metadata": {},
     "output_type": "execute_result"
    }
   ],
   "source": [
    "df[\"duration_seconds\"].describe([0.01, 0.05, 0.25, 0.5, 0.75, 0.95, 0.99])"
   ]
  },
  {
   "cell_type": "code",
   "execution_count": 21,
   "metadata": {},
   "outputs": [
    {
     "data": {
      "image/png": "[encoded data removed]",
      "text/plain": [
       "<Figure size 1152x576 with 1 Axes>"
      ]
     },
     "metadata": {
      "needs_background": "light"
     },
     "output_type": "display_data"
    }
   ],
   "source": [
    "plt.figure(figsize = (16,8))\n",
    "\n",
    "plt.hist(df[\"duration_seconds\"], bins = 80)\n",
    "\n",
    "plt.show()"
   ]
  },
  {
   "cell_type": "code",
   "execution_count": 22,
   "metadata": {},
   "outputs": [
    {
     "data": {
      "image/png": "[encoded data removed]",
      "text/plain": [
       "<Figure size 1152x576 with 1 Axes>"
      ]
     },
     "metadata": {
      "needs_background": "light"
     },
     "output_type": "display_data"
    }
   ],
   "source": [
    "plt.figure(figsize = (16,8))\n",
    "\n",
    "plt.plot(df[\"duration_seconds\"], df[\"duration_seconds_cumsum\"])\n",
    "\n",
    "plt.show()"
   ]
  },
  {
   "cell_type": "code",
   "execution_count": null,
   "metadata": {},
   "outputs": [],
   "source": []
  },
  {
   "cell_type": "code",
   "execution_count": null,
   "metadata": {},
   "outputs": [],
   "source": []
  },
  {
   "cell_type": "code",
   "execution_count": null,
   "metadata": {},
   "outputs": [],
   "source": []
  },
  {
   "cell_type": "code",
   "execution_count": null,
   "metadata": {},
   "outputs": [],
   "source": []
  },
  {
   "cell_type": "code",
   "execution_count": 26,
   "metadata": {},
   "outputs": [],
   "source": [
    "checkpoint_path = '/home/usuaris/veu/federico.costa/git_repositories/DoubleAttentionSpeakerVerification/models/22_12_14_09_48_59_vgg_tmh_ap_fc_VGGNL_TransformerStackedAttentionPooling_c0whzsyq/22_12_14_09_48_59_vgg_tmh_ap_fc_VGGNL_TransformerStackedAttentionPooling_c0whzsyq.chkpt'\n"
   ]
  },
  {
   "cell_type": "code",
   "execution_count": 27,
   "metadata": {},
   "outputs": [],
   "source": [
    "device = \"cuda\" if torch.cuda.is_available() else \"cpu\"\n",
    "\n",
    "checkpoint = torch.load(checkpoint_path, map_location = device)\n",
    "params = checkpoint['settings']\n",
    "\n",
    "net = SpeakerClassifier(params, device)\n",
    "\n",
    "try:\n",
    "    net.load_state_dict(checkpoint['model'])\n",
    "except RuntimeError:    \n",
    "    net.module.load_state_dict(checkpoint['model'])"
   ]
  },
  {
   "cell_type": "code",
   "execution_count": null,
   "metadata": {},
   "outputs": [],
   "source": [
    "with torch.no_grad():\n",
    "\n",
    "    # Switch torch to evaluation mode\n",
    "    self.net.eval()"
   ]
  },
  {
   "cell_type": "code",
   "execution_count": 28,
   "metadata": {},
   "outputs": [
    {
     "data": {
      "text/html": [
       "<div>\n",
       "<style scoped>\n",
       "    .dataframe tbody tr th:only-of-type {\n",
       "        vertical-align: middle;\n",
       "    }\n",
       "\n",
       "    .dataframe tbody tr th {\n",
       "        vertical-align: top;\n",
       "    }\n",
       "\n",
       "    .dataframe thead th {\n",
       "        text-align: right;\n",
       "    }\n",
       "</style>\n",
       "<table border=\"1\" class=\"dataframe\">\n",
       "  <thead>\n",
       "    <tr style=\"text-align: right;\">\n",
       "      <th></th>\n",
       "      <th>audio_path</th>\n",
       "      <th>speaker</th>\n",
       "      <th>duration_seconds</th>\n",
       "      <th>duration_seconds_cumsum</th>\n",
       "    </tr>\n",
       "  </thead>\n",
       "  <tbody>\n",
       "    <tr>\n",
       "      <th>932</th>\n",
       "      <td>/home/usuaris/veussd/DATABASES/VoxCeleb/VoxCel...</td>\n",
       "      <td>id03318</td>\n",
       "      <td>4.4</td>\n",
       "      <td>8.159924</td>\n",
       "    </tr>\n",
       "  </tbody>\n",
       "</table>\n",
       "</div>"
      ],
      "text/plain": [
       "                                            audio_path  speaker  \\\n",
       "932  /home/usuaris/veussd/DATABASES/VoxCeleb/VoxCel...  id03318   \n",
       "\n",
       "     duration_seconds  duration_seconds_cumsum  \n",
       "932               4.4                 8.159924  "
      ]
     },
     "execution_count": 28,
     "metadata": {},
     "output_type": "execute_result"
    }
   ],
   "source": [
    "df.sample()"
   ]
  },
  {
   "cell_type": "code",
   "execution_count": null,
   "metadata": {},
   "outputs": [],
   "source": []
  },
  {
   "cell_type": "code",
   "execution_count": null,
   "metadata": {},
   "outputs": [],
   "source": []
  },
  {
   "cell_type": "code",
   "execution_count": null,
   "metadata": {},
   "outputs": [],
   "source": []
  },
  {
   "cell_type": "code",
   "execution_count": null,
   "metadata": {},
   "outputs": [],
   "source": []
  },
  {
   "cell_type": "code",
   "execution_count": null,
   "metadata": {},
   "outputs": [],
   "source": []
  }
 ],
 "metadata": {
  "kernelspec": {
   "display_name": "DASV",
   "language": "python",
   "name": "dasv"
  },
  "language_info": {
   "codemirror_mode": {
    "name": "ipython",
    "version": 3
   },
   "file_extension": ".py",
   "mimetype": "text/x-python",
   "name": "python",
   "nbconvert_exporter": "python",
   "pygments_lexer": "ipython3",
   "version": "3.10.4"
  }
 },
 "nbformat": 4,
 "nbformat_minor": 2
}
