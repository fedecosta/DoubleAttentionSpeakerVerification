{
 "cells": [
  {
   "cell_type": "markdown",
   "metadata": {},
   "source": [
    "# 1 - Imports"
   ]
  },
  {
   "cell_type": "code",
   "execution_count": 8,
   "metadata": {},
   "outputs": [],
   "source": [
    "import sys\n",
    "sys.path.append('/home/usuaris/veu/federico.costa/git_repositories/DoubleAttentionSpeakerVerification/scripts/')\n",
    "import os\n",
    "import argparse\n",
    "import matplotlib.pyplot as plt\n",
    "import random\n",
    "import torch\n",
    "import numpy as np\n",
    "import pickle\n",
    "import pandas as pd\n",
    "\n",
    "from train import Trainer\n",
    "from settings import TRAIN_DEFAULT_SETTINGS"
   ]
  },
  {
   "cell_type": "markdown",
   "metadata": {},
   "source": [
    "# 2 - Load the class"
   ]
  },
  {
   "cell_type": "code",
   "execution_count": 2,
   "metadata": {},
   "outputs": [
    {
     "name": "stderr",
     "output_type": "stream",
     "text": [
      "22-10-24 13:28:34 - train - INFO - Setting device...\n",
      "22-10-24 13:28:34 - train - INFO - Running on cuda device.\n",
      "22-10-24 13:28:34 - train - INFO - Device setted.\n",
      "22-10-24 13:28:34 - train - INFO - Setting random seed...\n",
      "22-10-24 13:28:34 - train - INFO - Random seed setted.\n",
      "22-10-24 13:28:34 - train - INFO - Setting params...\n",
      "22-10-24 13:28:35 - train - INFO - params setted.\n",
      "22-10-24 13:28:35 - train - INFO - Loading data and labels from /home/usuaris/veu/federico.costa/git_repositories/DoubleAttentionSpeakerVerification/labels/train/voxceleb_2/train_labels.ndx\n",
      "22-10-24 13:28:35 - train - INFO - Data and labels loaded.\n",
      "22-10-24 13:28:35 - train - INFO - Loading the network...\n",
      "22-10-24 13:28:37 - train - INFO - Network loaded.\n",
      "22-10-24 13:28:37 - train - INFO - Loading the loss function...\n",
      "22-10-24 13:28:37 - train - INFO - Loss function loaded.\n",
      "22-10-24 13:28:37 - train - INFO - Loading the optimizer...\n",
      "22-10-24 13:28:37 - train - INFO - Optimizer adam loaded.\n",
      "22-10-24 13:28:37 - train - INFO - Initializing training variables...\n",
      "22-10-24 13:28:37 - train - INFO - Training variables initialized.\n"
     ]
    }
   ],
   "source": [
    "default_params_dict = TRAIN_DEFAULT_SETTINGS\n",
    "\n",
    "default_params_dict['train_labels_path'] = '/home/usuaris/veu/federico.costa/git_repositories/DoubleAttentionSpeakerVerification/labels/train/voxceleb_2/train_labels.ndx'\n",
    "default_params_dict['valid_clients'] = '/home/usuaris/veu/federico.costa/git_repositories/DoubleAttentionSpeakerVerification/labels/valid/tiny_check/clients.ndx'\n",
    "default_params_dict['valid_impostors'] = '/home/usuaris/veu/federico.costa/git_repositories/DoubleAttentionSpeakerVerification/labels/valid/tiny_check/impostors.ndx'\n",
    "default_params_dict['model_output_folder'] = './models/tiny_check/'\n",
    "default_params_dict['log_file_name'] = 'train_tiny_check.log'\n",
    "default_params_dict['print_training_info_every'] = 1\n",
    "default_params_dict['model_name_prefix'] = 'tiny_check'\n",
    "default_params_dict['max_epochs'] = 3\n",
    "default_params_dict['batch_size'] = 2\n",
    "default_params_dict['embedding_size'] = 10\n",
    "\n",
    "\n",
    "default_params = argparse.Namespace(**default_params_dict)\n",
    "\n",
    "trainer = Trainer(default_params)"
   ]
  },
  {
   "cell_type": "markdown",
   "metadata": {},
   "source": [
    "# 5 - Experiments"
   ]
  },
  {
   "cell_type": "code",
   "execution_count": 3,
   "metadata": {},
   "outputs": [],
   "source": [
    "for batch_number, (input, label) in enumerate(trainer.training_generator):\n",
    "    \n",
    "    # Assign input and label to device\n",
    "    input, label = input.float().to(trainer.device), label.long().to(trainer.device)\n",
    "\n",
    "    # Calculate loss\n",
    "    prediction, AMPrediction  = trainer.net(input_tensor = input, label = label, step = trainer.step)\n",
    "    break"
   ]
  }
 ],
 "metadata": {
  "kernelspec": {
   "display_name": "DASV",
   "language": "python",
   "name": "dasv"
  },
  "language_info": {
   "codemirror_mode": {
    "name": "ipython",
    "version": 3
   },
   "file_extension": ".py",
   "mimetype": "text/x-python",
   "name": "python",
   "nbconvert_exporter": "python",
   "pygments_lexer": "ipython3",
   "version": "3.10.4"
  }
 },
 "nbformat": 4,
 "nbformat_minor": 2
}
