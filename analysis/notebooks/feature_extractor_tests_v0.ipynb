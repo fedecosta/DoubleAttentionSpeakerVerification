{
 "cells": [
  {
   "cell_type": "markdown",
   "metadata": {},
   "source": [
    "# 1 - Imports"
   ]
  },
  {
   "cell_type": "code",
   "execution_count": 1,
   "metadata": {},
   "outputs": [],
   "source": [
    "import sys\n",
    "sys.path.append('/home/usuaris/veu/federico.costa/git_repositories/DoubleAttentionSpeakerVerification/scripts/')\n",
    "\n",
    "import argparse\n",
    "import librosa\n",
    "import librosa.display as ld\n",
    "import numpy as np\n",
    "import pandas as pd\n",
    "import matplotlib.pyplot as plt\n",
    "\n",
    "from feature_extractor import FeatureExtractor\n",
    "from settings import FEATURE_EXTRACTOR_DEFAULT_SETTINGS"
   ]
  },
  {
   "cell_type": "markdown",
   "metadata": {},
   "source": [
    "# 2 - Feature extractor class"
   ]
  },
  {
   "cell_type": "code",
   "execution_count": null,
   "metadata": {},
   "outputs": [],
   "source": [
    "default_params_dict = FEATURE_EXTRACTOR_DEFAULT_SETTINGS\n",
    "\n",
    "default_params_dict['audio_paths_file_folder'] = '/home/usuaris/veu/federico.costa/git_repositories/DoubleAttentionSpeakerVerification/feature_extractor/'\n",
    "default_params_dict['n_mels'] = 80\n",
    "\n",
    "default_params = argparse.Namespace(**default_params_dict)\n",
    "\n",
    "feature_extractor = FeatureExtractor(default_params)"
   ]
  },
  {
   "cell_type": "markdown",
   "metadata": {},
   "source": [
    "# 3 - Tests"
   ]
  },
  {
   "cell_type": "code",
   "execution_count": null,
   "metadata": {},
   "outputs": [],
   "source": [
    "feature_extractor.count_input_lines()\n",
    "\n",
    "with open(feature_extractor.params.audio_paths_file_path, 'r') as file:\n",
    "    \n",
    "    for line in file:\n",
    "\n",
    "        audio_path = line.replace(\"\\n\", \"\")\n",
    "\n",
    "        print(f\"[Feature Extractor] Processing file {audio_path}...\")\n",
    "\n",
    "        file_dump_path = '.'.join(line.split(\".\")[:-1]) # remove the file extension\n",
    "        file_dump_path = file_dump_path + \".pickle\" # add the pickle extension\n",
    "\n",
    "        if (feature_extractor.params.overwrite == True) or (feature_extractor.params.overwrite == False and not os.path.exists(file_dump_path)):\n",
    "                    \n",
    "            samples, sampling_rate = librosa.load(\n",
    "                f'{audio_path}',\n",
    "                sr = feature_extractor.params.sampling_rate,\n",
    "                mono = True, # converts to mono channel\n",
    "                ) \n",
    "\n",
    "            assert int(sampling_rate) == int(feature_extractor.params.sampling_rate)\n",
    "            \n",
    "            # Pre-emphasis\n",
    "            samples *= 32768 # HACK why this number?\n",
    "            samples[1:] = samples[1:] - feature_extractor.params.pre_emph_coef * samples[:-1]\n",
    "            samples[0] *= (1 - feature_extractor.params.pre_emph_coef)\n",
    "\n",
    "            # Short time Fourier Transform\n",
    "            D = librosa.stft(\n",
    "                samples, \n",
    "                n_fft = int(feature_extractor.params.n_fft_secs * sampling_rate), \n",
    "                hop_length = int(feature_extractor.params.hop_length_secs * sampling_rate),\n",
    "                win_length = int(feature_extractor.params.win_length_secs * sampling_rate), \n",
    "                window = feature_extractor.params.window, \n",
    "                center = False,\n",
    "                )\n",
    "            \n",
    "            magnitudes = np.abs(D)\n",
    "            low_freq = 0\n",
    "            high_freq = sampling_rate / 2\n",
    "\n",
    "            mel_spectrogram = librosa.feature.melspectrogram(\n",
    "                S = magnitudes, \n",
    "                sr = sampling_rate, \n",
    "                n_mels = feature_extractor.params.n_mels, \n",
    "                fmin = low_freq, \n",
    "                fmax = high_freq, \n",
    "                norm = None,\n",
    "                )\n",
    "        \n",
    "            log_mel_spectrogram = np.log(np.maximum(1, mel_spectrogram))\n",
    "        \n",
    "        break"
   ]
  },
  {
   "cell_type": "code",
   "execution_count": null,
   "metadata": {},
   "outputs": [],
   "source": [
    "log_mel_spectrogram.shape"
   ]
  },
  {
   "cell_type": "code",
   "execution_count": null,
   "metadata": {},
   "outputs": [],
   "source": [
    "plt.figure(figsize=(25, 10))\n",
    "\n",
    "librosa.display.specshow(\n",
    "    mel_spectrogram, \n",
    "    x_axis = \"s\",\n",
    "    y_axis = \"mel\", \n",
    "    sr = sampling_rate,\n",
    "    )\n",
    "\n",
    "plt.colorbar(format=\"%+2.f dB\")\n",
    "plt.show()"
   ]
  },
  {
   "cell_type": "code",
   "execution_count": null,
   "metadata": {},
   "outputs": [],
   "source": [
    "plt.figure(figsize=(25, 10))\n",
    "\n",
    "librosa.display.specshow(\n",
    "    log_mel_spectrogram, \n",
    "    x_axis = \"s\",\n",
    "    y_axis = \"mel\", \n",
    "    sr = sampling_rate,\n",
    "    )\n",
    "\n",
    "plt.colorbar(format=\"%+2.f dB\")\n",
    "plt.show()"
   ]
  },
  {
   "cell_type": "code",
   "execution_count": null,
   "metadata": {},
   "outputs": [],
   "source": []
  },
  {
   "cell_type": "code",
   "execution_count": null,
   "metadata": {},
   "outputs": [],
   "source": []
  },
  {
   "cell_type": "code",
   "execution_count": null,
   "metadata": {},
   "outputs": [],
   "source": []
  },
  {
   "cell_type": "code",
   "execution_count": null,
   "metadata": {},
   "outputs": [],
   "source": []
  },
  {
   "cell_type": "code",
   "execution_count": null,
   "metadata": {},
   "outputs": [],
   "source": []
  },
  {
   "cell_type": "code",
   "execution_count": null,
   "metadata": {},
   "outputs": [],
   "source": []
  },
  {
   "cell_type": "code",
   "execution_count": 6,
   "metadata": {},
   "outputs": [],
   "source": [
    "import pickle\n",
    "with open(\"/home/usuaris/veussd/DATABASES/VoxCeleb/VoxCeleb1/test/id10270/5r0dWxy17C8/00001.pickle\", 'rb') as pickle_file:\n",
    "    features = pickle.load(pickle_file)"
   ]
  },
  {
   "cell_type": "code",
   "execution_count": 7,
   "metadata": {},
   "outputs": [
    {
     "data": {
      "text/plain": [
       "{'features': array([[4.4989624, 3.799679 , 4.1704392, ..., 4.0843544, 4.1892056,\n",
       "         5.627227 ],\n",
       "        [5.3594484, 5.061476 , 3.7799945, ..., 5.258099 , 5.163255 ,\n",
       "         5.126963 ],\n",
       "        [5.2957215, 5.913182 , 4.7764177, ..., 7.3524   , 6.997459 ,\n",
       "         6.7028084],\n",
       "        ...,\n",
       "        [8.388144 , 8.067397 , 8.272516 , ..., 8.258151 , 8.407291 ,\n",
       "         8.436576 ],\n",
       "        [7.914051 , 7.999135 , 7.889348 , ..., 8.384672 , 7.8605113,\n",
       "         7.8729672],\n",
       "        [7.6988573, 7.117542 , 7.7052364, ..., 8.167991 , 7.3849   ,\n",
       "         7.6992416]], dtype=float32),\n",
       " 'settings': Namespace(audio_paths_file_folder='./feature_extractor/', audio_paths_file_name='feature_extractor_paths.lst', sampling_rate=16000, n_fft_secs=0.023, window='hamming', win_length_secs=0.023, hop_length_secs=0.01, pre_emph_coef=0.97, n_mels=80, overwrite=True, verbose=False, audio_paths_file_path='./feature_extractor/feature_extractor_paths.lst')}"
      ]
     },
     "execution_count": 7,
     "metadata": {},
     "output_type": "execute_result"
    }
   ],
   "source": [
    "features"
   ]
  },
  {
   "cell_type": "code",
   "execution_count": 11,
   "metadata": {},
   "outputs": [
    {
     "data": {
      "text/plain": [
       "16000"
      ]
     },
     "execution_count": 11,
     "metadata": {},
     "output_type": "execute_result"
    }
   ],
   "source": [
    "features[\"settings\"].sampling_rate"
   ]
  },
  {
   "cell_type": "code",
   "execution_count": null,
   "metadata": {},
   "outputs": [],
   "source": []
  }
 ],
 "metadata": {
  "kernelspec": {
   "display_name": "DASV",
   "language": "python",
   "name": "dasv"
  },
  "language_info": {
   "codemirror_mode": {
    "name": "ipython",
    "version": 3
   },
   "file_extension": ".py",
   "mimetype": "text/x-python",
   "name": "python",
   "nbconvert_exporter": "python",
   "pygments_lexer": "ipython3",
   "version": "3.10.4"
  }
 },
 "nbformat": 4,
 "nbformat_minor": 2
}
